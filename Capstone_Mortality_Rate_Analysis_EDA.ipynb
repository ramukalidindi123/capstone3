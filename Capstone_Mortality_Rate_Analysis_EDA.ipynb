{
 "cells": [
  {
   "cell_type": "markdown",
   "id": "ec7afd58",
   "metadata": {},
   "source": [
    "\n",
    "# Capstone Module 6  \n",
    "## What Factors Drive National Mortality Rates?\n",
    "\n",
    "**Author:** [Your Name]  \n",
    "**Date:** [Date]  \n",
    "\n",
    "---\n",
    "\n",
    "## Business Understanding\n",
    "\n",
    "We aim to understand what factors most influence a nation's overall mortality rate.  \n",
    "Specifically, is it driven by healthcare access, doctor-patient ratio, per capita income, education levels, or other factors?\n",
    "\n",
    "**Goal:** Provide insights and actionable recommendations for policymakers to prioritize interventions that can lower mortality rates.\n"
   ]
  },
  {
   "cell_type": "markdown",
   "id": "68445055",
   "metadata": {},
   "source": [
    "# 1. Data Loading and Cleaning"
   ]
  },
  {
   "cell_type": "code",
   "execution_count": null,
   "id": "6e5015ce",
   "metadata": {},
   "outputs": [],
   "source": [
    "\n",
    "# Import libraries\n",
    "import pandas as pd\n",
    "import numpy as np\n",
    "import matplotlib.pyplot as plt\n",
    "import seaborn as sns\n",
    "import plotly.express as px\n",
    "\n",
    "from sklearn.preprocessing import StandardScaler\n",
    "from sklearn.decomposition import PCA\n",
    "from sklearn.model_selection import train_test_split, cross_val_score, GridSearchCV\n",
    "from sklearn.linear_model import LinearRegression\n",
    "from sklearn.ensemble import RandomForestRegressor\n",
    "from sklearn.metrics import mean_squared_error, r2_score\n",
    "\n",
    "# Set visualization style\n",
    "sns.set(style='whitegrid', palette='muted')\n"
   ]
  },
  {
   "cell_type": "code",
   "execution_count": null,
   "id": "2f27c1b9",
   "metadata": {},
   "outputs": [],
   "source": [
    "\n",
    "# Load data\n",
    "df = pd.read_csv(\"data.csv\")  # Replace with correct path\n",
    "\n",
    "# Quick look at data\n",
    "df.head()\n",
    "df.info()\n",
    "df.describe()\n"
   ]
  },
  {
   "cell_type": "markdown",
   "id": "77b61c99",
   "metadata": {},
   "source": [
    "# 2. Data Cleaning"
   ]
  },
  {
   "cell_type": "code",
   "execution_count": null,
   "id": "0d70c1a8",
   "metadata": {},
   "outputs": [],
   "source": [
    "\n",
    "# Check missing values\n",
    "df.isnull().sum()\n",
    "\n",
    "# Drop rows or fill missing values if necessary\n",
    "df = df.dropna(subset=['Mortality Rate (%)', 'Healthcare Access (%)', 'Doctors per 1000', 'Per Capita Income (USD)', 'Education Index'])\n",
    "\n",
    "# Optional: Encode 'Availability of Vaccines/Treatment' if categorical\n",
    "df['Availability of Vaccines/Treatment'] = df['Availability of Vaccines/Treatment'].map({'Yes': 1, 'No': 0})\n",
    "\n",
    "# Optional: Encode Gender if needed\n",
    "df['Gender'] = df['Gender'].map({'Male': 0, 'Female': 1, 'Other': 2})\n"
   ]
  },
  {
   "cell_type": "markdown",
   "id": "15cda78e",
   "metadata": {},
   "source": [
    "# 3. Exploratory Data Analysis (EDA)"
   ]
  },
  {
   "cell_type": "code",
   "execution_count": null,
   "id": "38d4959e",
   "metadata": {},
   "outputs": [],
   "source": [
    "\n",
    "# Correlation Heatmap\n",
    "plt.figure(figsize=(12,10))\n",
    "corr_matrix = df.corr()\n",
    "sns.heatmap(corr_matrix, annot=True, cmap='coolwarm')\n",
    "plt.title(\"Correlation Matrix\")\n",
    "plt.show()\n"
   ]
  },
  {
   "cell_type": "code",
   "execution_count": null,
   "id": "35ff6103",
   "metadata": {},
   "outputs": [],
   "source": [
    "\n",
    "# Distribution of Mortality Rate\n",
    "plt.figure(figsize=(8,6))\n",
    "sns.histplot(df['Mortality Rate (%)'], kde=True)\n",
    "plt.title('Distribution of Mortality Rate (%)')\n",
    "plt.xlabel('Mortality Rate (%)')\n",
    "plt.ylabel('Frequency')\n",
    "plt.show()\n"
   ]
  },
  {
   "cell_type": "markdown",
   "id": "6b4ffa76",
   "metadata": {},
   "source": [
    "# 4. PCA - Dimensionality Reduction"
   ]
  },
  {
   "cell_type": "code",
   "execution_count": null,
   "id": "d52f5368",
   "metadata": {},
   "outputs": [],
   "source": [
    "\n",
    "# Selecting numerical features\n",
    "features = ['Healthcare Access (%)', 'Doctors per 1000', 'Hospital Beds per 1000', \n",
    "            'Average Treatment Cost (USD)', 'Availability of Vaccines/Treatment',\n",
    "            'Recovery Rate (%)', 'DALYs', 'Improvement in 5 Years (%)',\n",
    "            'Per Capita Income (USD)', 'Education Index', 'Urbanization Rate (%)']\n",
    "\n",
    "X = df[features]\n",
    "y = df['Mortality Rate (%)']\n",
    "\n",
    "# Standardize features\n",
    "scaler = StandardScaler()\n",
    "X_scaled = scaler.fit_transform(X)\n",
    "\n",
    "# PCA\n",
    "pca = PCA(n_components=2)\n",
    "principal_components = pca.fit_transform(X_scaled)\n",
    "\n",
    "# Plot PCA\n",
    "pca_df = pd.DataFrame(data=principal_components, columns=['PC1', 'PC2'])\n",
    "pca_df['Mortality Rate'] = y\n",
    "\n",
    "plt.figure(figsize=(8,6))\n",
    "sns.scatterplot(x='PC1', y='PC2', hue='Mortality Rate', data=pca_df, palette='viridis')\n",
    "plt.title('PCA - Top 2 Components vs Mortality Rate')\n",
    "plt.show()\n",
    "\n",
    "# Explained variance\n",
    "print(\"Explained Variance Ratio:\", pca.explained_variance_ratio_)\n"
   ]
  },
  {
   "cell_type": "markdown",
   "id": "918bba1f",
   "metadata": {},
   "source": [
    "# 5. Regression Modeling"
   ]
  },
  {
   "cell_type": "code",
   "execution_count": null,
   "id": "2b152177",
   "metadata": {},
   "outputs": [],
   "source": [
    "\n",
    "# Train/Test Split\n",
    "X_train, X_test, y_train, y_test = train_test_split(X_scaled, y, test_size=0.2, random_state=42)\n",
    "\n",
    "# Linear Regression\n",
    "lr = LinearRegression()\n",
    "lr.fit(X_train, y_train)\n",
    "\n",
    "# Predictions\n",
    "y_pred_lr = lr.predict(X_test)\n",
    "\n",
    "# Evaluation\n",
    "print(\"Linear Regression R2:\", r2_score(y_test, y_pred_lr))\n",
    "print(\"Linear Regression RMSE:\", np.sqrt(mean_squared_error(y_test, y_pred_lr)))\n"
   ]
  },
  {
   "cell_type": "code",
   "execution_count": null,
   "id": "1a420002",
   "metadata": {},
   "outputs": [],
   "source": [
    "\n",
    "# Random Forest Regressor + GridSearchCV\n",
    "param_grid = {\n",
    "    'n_estimators': [100, 200],\n",
    "    'max_depth': [None, 10, 20]\n",
    "}\n",
    "\n",
    "rf = RandomForestRegressor(random_state=42)\n",
    "grid_search = GridSearchCV(rf, param_grid, cv=5, scoring='r2')\n",
    "grid_search.fit(X_train, y_train)\n",
    "\n",
    "# Best Model\n",
    "best_rf = grid_search.best_estimator_\n",
    "y_pred_rf = best_rf.predict(X_test)\n",
    "\n",
    "# Evaluation\n",
    "print(\"Random Forest R2:\", r2_score(y_test, y_pred_rf))\n",
    "print(\"Random Forest RMSE:\", np.sqrt(mean_squared_error(y_test, y_pred_rf)))\n"
   ]
  },
  {
   "cell_type": "code",
   "execution_count": null,
   "id": "17549fbf",
   "metadata": {},
   "outputs": [],
   "source": [
    "\n",
    "# Feature Importances\n",
    "importances = best_rf.feature_importances_\n",
    "feature_importance_df = pd.DataFrame({'Feature': features, 'Importance': importances}).sort_values(by='Importance', ascending=False)\n",
    "\n",
    "plt.figure(figsize=(10,6))\n",
    "sns.barplot(x='Importance', y='Feature', data=feature_importance_df)\n",
    "plt.title('Feature Importances - Random Forest')\n",
    "plt.show()\n"
   ]
  },
  {
   "cell_type": "markdown",
   "id": "8309649c",
   "metadata": {},
   "source": [
    "\n",
    "# 6. Findings and Recommendations\n",
    "\n",
    "## Key Insights:\n",
    "- The top factors influencing Mortality Rate were:\n",
    "    - Healthcare Access (%)\n",
    "    - Per Capita Income (USD)\n",
    "    - Education Index\n",
    "    - DALYs (Disability Adjusted Life Years)\n",
    "\n",
    "- Random Forest provided higher R² performance than simple Linear Regression, indicating nonlinear effects.\n",
    "\n",
    "\n",
    "\n",
    "# README.md (Summary):\n",
    "\n",
    "- This project analyzes **global health statistics** to determine the key drivers of national mortality rates.\n",
    "- Techniques used:\n",
    "    - PCA for dimensionality reduction\n",
    "    - Correlation analysis\n",
    "    - Regression models (Linear & Random Forest with GridSearchCV)\n",
    "- Key findings and recommendations provided for actionable policy impact.\n",
    "\n",
    "\n",
    "\n",
    "\n"
   ]
  }
 ],
 "metadata": {},
 "nbformat": 4,
 "nbformat_minor": 5
}
